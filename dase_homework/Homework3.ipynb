{
 "cells": [
  {
   "cell_type": "markdown",
   "metadata": {},
   "source": [
    "1.编写 Python程序,判断输入a是否为质数"
   ]
  },
  {
   "cell_type": "code",
   "execution_count": 3,
   "metadata": {},
   "outputs": [
    {
     "name": "stdout",
     "output_type": "stream",
     "text": [
      "False\n"
     ]
    }
   ],
   "source": [
    "import math\n",
    "a = int(input())\n",
    "def ifzhi(a):\n",
    "    if a <= 1: \n",
    "        return False\n",
    "    for i in range(2,int(math.sqrt(a))+1):\n",
    "        if a % i == 0:\n",
    "            return False\n",
    "    return True\n",
    "print(ifzhi(a))\n",
    "\n"
   ]
  },
  {
   "cell_type": "markdown",
   "metadata": {},
   "source": [
    "2.用Python实现插入排序该算法，不允许直接调用插入排序函数，需要手动实现其逻辑过程。"
   ]
  },
  {
   "cell_type": "code",
   "execution_count": null,
   "metadata": {},
   "outputs": [],
   "source": [
    "def insortion_sort(a):\n",
    "    for i in range(1, len(a)):\n",
    "        key = a[i]\n",
    "        j = i - 1\n",
    "        while j >= 0 and key < a[j]:\n",
    "            a[j + 1] = a[j]\n",
    "            j -= 1\n",
    "        a[j + 1] = key\n",
    "    return a\n",
    "\n",
    "def selection_sort(a):\n",
    "    for i in range(len(a)):\n",
    "        min_idx = i\n",
    "        for j in range(i + 1, len(a)):\n",
    "            if a[min_idx] > a[j]:\n",
    "                min_idx = j\n",
    "        a[i], a[min_idx] = a[min_idx], a[i]\n",
    "    return a\n",
    "\n",
    "def partition(a, low, high):\n",
    "    pivot = a[high]\n",
    "    i = low - 1\n",
    "    for j in range(low, high):\n",
    "        if a[j] <= pivot:\n",
    "            i = i + 1\n",
    "            a[i], a[j] = a[j], a[i]\n",
    "    a[i + 1], a[high] = a[high], a[i + 1]\n",
    "    return i + 1\n",
    "\n",
    "def quick_sort(a, low, high):\n",
    "    if low < high:\n",
    "        pi = partition(a, low, high)\n",
    "        quick_sort(a, low, pi - 1)\n",
    "        quick_sort(a, pi + 1, high)"
   ]
  },
  {
   "cell_type": "markdown",
   "metadata": {},
   "source": [
    "3.用Python实现选择排序该算法，不允许直接调用插入排序函数，需要手动实现其逻辑过程。"
   ]
  },
  {
   "cell_type": "markdown",
   "metadata": {},
   "source": [
    "4.用Python实现快速排序该算法，不允许直接调用插入排序函数，需要手动实现其逻辑过程。"
   ]
  },
  {
   "cell_type": "markdown",
   "metadata": {},
   "source": [
    "5.使用 Python 随机生成三组长度递增的随机数列，长度分别为100、1000、10000，对生成的随机数组使用不同的排序算法，例如选择排序和归并排序，至少三种排序方法。对这些数列的数据排序，并分析不同排序算法在不同长度数列下的运行效果，例如运行时间等指标。"
   ]
  },
  {
   "cell_type": "code",
   "execution_count": null,
   "metadata": {},
   "outputs": [],
   "source": []
  },
  {
   "cell_type": "markdown",
   "metadata": {},
   "source": [
    "6.使用python代码获取当前系统时间"
   ]
  },
  {
   "cell_type": "code",
   "execution_count": 14,
   "metadata": {},
   "outputs": [
    {
     "name": "stdout",
     "output_type": "stream",
     "text": [
      "当前系统时间为: 2024-10-15 15:07:27.171515\n",
      "格式化后的当前系统时间为: 2024-10-15 15:07:27\n"
     ]
    }
   ],
   "source": [
    "from datetime import datetime\n",
    "now = datetime.now()\n",
    "formatted_now = now.strftime('%Y-%m-%d %H:%M:%S')\n",
    "print(\"格式化后的当前系统时间为:\", formatted_now)"
   ]
  },
  {
   "cell_type": "markdown",
   "metadata": {},
   "source": [
    "7.homework/data文件夹下的stuGrade.csv文件中包含5位同学的学号、语文成绩、数学成绩和英语成绩，请先用记事本打开该文件，查看文件内容，然后编写Python程序，读取该文件，并计算出各科的平均成绩（保留2位小数）。"
   ]
  },
  {
   "cell_type": "markdown",
   "metadata": {},
   "source": [
    "8.请在第7题的代码继续编写Python程序，将以下内容写入my.txt文件中，一并上传到github中。"
   ]
  }
 ],
 "metadata": {
  "kernelspec": {
   "display_name": "Python 3",
   "language": "python",
   "name": "python3"
  },
  "language_info": {
   "codemirror_mode": {
    "name": "ipython",
    "version": 3
   },
   "file_extension": ".py",
   "mimetype": "text/x-python",
   "name": "python",
   "nbconvert_exporter": "python",
   "pygments_lexer": "ipython3",
   "version": "3.12.2"
  }
 },
 "nbformat": 4,
 "nbformat_minor": 2
}
