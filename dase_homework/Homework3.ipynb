{
 "cells": [
  {
   "cell_type": "markdown",
   "metadata": {},
   "source": [
    "1.编写 Python程序,判断输入a是否为质数"
   ]
  },
  {
   "cell_type": "code",
   "execution_count": 3,
   "metadata": {},
   "outputs": [
    {
     "name": "stdout",
     "output_type": "stream",
     "text": [
      "False\n"
     ]
    }
   ],
   "source": [
    "import math\n",
    "a = int(input())\n",
    "def ifzhi(a):\n",
    "    if a <= 1: \n",
    "        return False\n",
    "    for i in range(2,int(math.sqrt(a))+1):\n",
    "        if a % i == 0:\n",
    "            return False\n",
    "    return True\n",
    "print(ifzhi(a))"
   ]
  },
  {
   "cell_type": "markdown",
   "metadata": {},
   "source": [
    "2.用Python实现插入排序该算法，不允许直接调用插入排序函数，需要手动实现其逻辑过程。"
   ]
  },
  {
   "cell_type": "markdown",
   "metadata": {},
   "source": [
    "3.用Python实现选择排序该算法，不允许直接调用插入排序函数，需要手动实现其逻辑过程。"
   ]
  },
  {
   "cell_type": "markdown",
   "metadata": {},
   "source": [
    "4.用Python实现快速排序该算法，不允许直接调用插入排序函数，需要手动实现其逻辑过程。"
   ]
  },
  {
   "cell_type": "markdown",
   "metadata": {},
   "source": [
    "5.使用 Python 随机生成三组长度递增的随机数列，长度分别为100、1000、10000，对生成的随机数组使用不同的排序算法，例如选择排序和归并排序，至少三种排序方法。对这些数列的数据排序，并分析不同排序算法在不同长度数列下的运行效果，例如运行时间等指标。（可用函数）"
   ]
  },
  {
   "cell_type": "code",
   "execution_count": 3,
   "metadata": {},
   "outputs": [
    {
     "name": "stdout",
     "output_type": "stream",
     "text": [
      "Insertion Sort: 0.0\n",
      "Selection Sort: 0.003999471664428711\n",
      "Quick Sort: 0.0\n",
      "Insertion Sort: 0.0315244197845459\n",
      "Selection Sort: 0.03601717948913574\n",
      "Quick Sort: 0.0\n",
      "Insertion Sort: 3.624202251434326\n",
      "Selection Sort: 3.3959600925445557\n",
      "Quick Sort: 0.03221440315246582\n"
     ]
    }
   ],
   "source": [
    "import random\n",
    "import time\n",
    "def insertion_sort(a):\n",
    "    for i in range(1, len(a)):\n",
    "        key = a[i]\n",
    "        j = i - 1\n",
    "        while j >= 0 and key < a[j]:\n",
    "            a[j + 1] = a[j]\n",
    "            j -= 1\n",
    "        a[j + 1] = key\n",
    "    return a\n",
    "\n",
    "def selection_sort(a):\n",
    "    for i in range(len(a) - 1):\n",
    "        min_idx = i\n",
    "        for j in range(i + 1, len(a)):\n",
    "            if a[min_idx] > a[j]:\n",
    "                min_idx = j\n",
    "        a[i], a[min_idx] = a[min_idx], a[i]\n",
    "    return a\n",
    "\n",
    "def partition(a, low, high):\n",
    "    pivot = a[high]\n",
    "    i = low - 1\n",
    "    for j in range(low, high):\n",
    "        if a[j] <= pivot:\n",
    "            i = i + 1\n",
    "            a[i], a[j] = a[j], a[i]\n",
    "    a[i + 1], a[high] = a[high], a[i + 1]\n",
    "    return i + 1\n",
    "\n",
    "def quick_sort(a, low, high):\n",
    "    if low < high:\n",
    "        pi = partition(a, low, high)\n",
    "        quick_sort(a, low, pi - 1)\n",
    "        quick_sort(a, pi + 1, high)\n",
    "        return a\n",
    "\n",
    "length = [100, 1000, 10000]\n",
    "for i in length:\n",
    "    random_numbers = [random.randint(1, 10000) for _ in range(i)]\n",
    "    start_time = time.time()\n",
    "    sorted_numbers = insertion_sort(random_numbers.copy())\n",
    "    end_time = time.time()\n",
    "    elapsed_time = end_time - start_time\n",
    "    print(\"Insertion Sort:\", elapsed_time)\n",
    "    start_time = time.time()\n",
    "    sorted_numbers = selection_sort(random_numbers.copy())\n",
    "    end_time = time.time()\n",
    "    elapsed_time = end_time - start_time\n",
    "    print(\"Selection Sort:\", elapsed_time)\n",
    "    start_time = time.time()\n",
    "    sorted_numbers = quick_sort(random_numbers.copy(),0,i-1)\n",
    "    end_time = time.time()\n",
    "    elapsed_time = end_time - start_time\n",
    "    print(\"Quick Sort:\", elapsed_time)\n",
    "\n"
   ]
  },
  {
   "cell_type": "markdown",
   "metadata": {},
   "source": [
    "分析三种排序的时间复杂度：\n",
    "插入排序和选择排序：O(n^2)，均包含双循环，在大数据规模下效果较差。\n",
    "快速排序平均时间复杂度是O(nlogn),在大数据规模下效率明显更优。但其最差情况下仍为O(n^2)."
   ]
  },
  {
   "cell_type": "markdown",
   "metadata": {},
   "source": [
    "6.使用python代码获取当前系统时间"
   ]
  },
  {
   "cell_type": "code",
   "execution_count": 5,
   "metadata": {},
   "outputs": [
    {
     "name": "stdout",
     "output_type": "stream",
     "text": [
      "格式化后的当前系统时间为: 2024-10-16 14:12:01\n"
     ]
    }
   ],
   "source": [
    "from datetime import datetime\n",
    "now = datetime.now()\n",
    "formatted_now = now.strftime('%Y-%m-%d %H:%M:%S')\n",
    "print(\"格式化后的当前系统时间为:\", formatted_now)"
   ]
  },
  {
   "cell_type": "markdown",
   "metadata": {},
   "source": [
    "7.homework/data文件夹下的stuGrade.csv文件中包含5位同学的学号、语文成绩、数学成绩和英语成绩，请先用记事本打开该文件，查看文件内容，然后编写Python程序，读取该文件，并计算出各科的平均成绩（保留2位小数）。  \n",
    "\n",
    "8.请在第7题的代码继续编写Python程序，将以下内容写入my.txt文件中，一并上传到github中。  \n",
    "\n",
    "第1行：你的学号和姓名\n",
    "\n",
    "第2行：3门课程的平均成绩（任意课程），保留2位小数，以英文逗号间隔\n",
    "\n",
    "第3行：系统当前时间，格式例如2020-01-01 12:00:00\n",
    "\n",
    "第4行：两秒后的系统当前时间（利用sleep()方法）\n"
   ]
  },
  {
   "cell_type": "code",
   "execution_count": 22,
   "metadata": {},
   "outputs": [
    {
     "name": "stdout",
     "output_type": "stream",
     "text": [
      "chinese:82.60\n",
      "math:81.00\n",
      "english:81.80\n"
     ]
    }
   ],
   "source": [
    "import pandas as pd\n",
    "df = pd.read_csv(\"stuGrade.csv\")\n",
    "avg1 = df['chinese'].mean()\n",
    "avg2 = df['math'].mean()\n",
    "avg3 = df['english'].mean()\n",
    "print(f\"chinese:{avg1:.2f}\")\n",
    "print(f\"math:{avg2:.2f}\")\n",
    "print(f\"english:{avg3:.2f}\")"
   ]
  },
  {
   "cell_type": "code",
   "execution_count": 31,
   "metadata": {},
   "outputs": [],
   "source": [
    "from datetime import datetime\n",
    "import time\n",
    "formatted_now = datetime.now().strftime('%Y-%m-%d %H:%M:%S')\n",
    "time.sleep(2)\n",
    "formatted_later = datetime.now().strftime('%Y-%m-%d %H:%M:%S')\n",
    "lines = [\n",
    "    '10235501442 尹中成\\n',\n",
    "    '82.60,81.00,81.80\\n',\n",
    "    f'{formatted_now}\\n',\n",
    "    f'{formatted_later}\\n',\n",
    "]\n",
    "with open('my.txt', 'w',encoding='utf-8') as f:\n",
    "    f.writelines(lines)"
   ]
  }
 ],
 "metadata": {
  "kernelspec": {
   "display_name": "Python 3",
   "language": "python",
   "name": "python3"
  },
  "language_info": {
   "codemirror_mode": {
    "name": "ipython",
    "version": 3
   },
   "file_extension": ".py",
   "mimetype": "text/x-python",
   "name": "python",
   "nbconvert_exporter": "python",
   "pygments_lexer": "ipython3",
   "version": "3.12.2"
  }
 },
 "nbformat": 4,
 "nbformat_minor": 2
}
