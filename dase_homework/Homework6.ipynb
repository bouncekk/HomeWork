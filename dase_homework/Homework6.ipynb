{
 "cells": [
  {
   "cell_type": "markdown",
   "metadata": {},
   "source": [
    "1. 读取data中2023_6文件夹中的openrank数据集，分析美国排名前一百的项目的的value的最大值、最小值、均值以及中位数。"
   ]
  },
  {
   "cell_type": "code",
   "execution_count": null,
   "metadata": {},
   "outputs": [
    {
     "name": "stdout",
     "output_type": "stream",
     "text": [
      "最大值: 1394.45\n",
      "最小值: 200.68\n",
      "均值: 346.9679\n",
      "中位数: 273.66999999999996\n"
     ]
    }
   ],
   "source": [
    "import pandas as pd  \n",
    "\n",
    "\n",
    "df = pd.read_csv('open_rank_20236.csv')  \n",
    " \n",
    "value_column = df['value']  \n",
    " \n",
    "max_value = value_column.max()  \n",
    "min_value = value_column.min()  \n",
    "mean_value = value_column.mean()  \n",
    "median_value = value_column.median()  \n",
    "\n",
    "print(f\"最大值: {max_value}\")  \n",
    "print(f\"最小值: {min_value}\")  \n",
    "print(f\"均值: {mean_value}\")  \n",
    "print(f\"中位数: {median_value}\")"
   ]
  },
  {
   "cell_type": "markdown",
   "metadata": {},
   "source": [
    "2. 读取data中2022文件夹下的activity_2020文件，分析美国排名前十的项目的平均增长率。"
   ]
  },
  {
   "cell_type": "code",
   "execution_count": 8,
   "metadata": {},
   "outputs": [
    {
     "name": "stdout",
     "output_type": "stream",
     "text": [
      "-4.74%\n"
     ]
    }
   ],
   "source": [
    "import pandas as pd\n",
    "df = pd.read_csv('activity_2022.csv')\n",
    "begin = df['20221_value']\n",
    "end = df['202212_value']\n",
    "sum = 0\n",
    "for i in range(len(begin)):\n",
    "    sum = (sum + (end[i] - begin[i])/begin[i]) \n",
    "print(\"{:.2f}%\".format((sum/len(begin))*100))"
   ]
  },
  {
   "cell_type": "markdown",
   "metadata": {},
   "source": [
    "3. data/2022/china_2022.csv表示中国开源领域排名前十的企业。data/2022/global_2022.csv表示开源领域全球前十的的企业，请通过各种统计指标比较两者的各种数据差异。"
   ]
  },
  {
   "cell_type": "code",
   "execution_count": null,
   "metadata": {},
   "outputs": [
    {
     "name": "stdout",
     "output_type": "stream",
     "text": [
      "9169.2 43300.2\n",
      "16912.7 83423.0\n",
      "9265.007000000001 11906.920999999998\n",
      "8.162392433600044 7.636352124129397\n"
     ]
    }
   ],
   "source": [
    "import pandas as pd\n",
    "df1 = pd.read_csv('china_2022.csv')\n",
    "df2 = pd.read_csv('global_2022.csv')\n",
    "print(df1['open_issue'].mean(),df2['open_issue'].mean())\n",
    "print(df1['open_pull'].mean(),df2['open_pull'].mean())\n",
    "print(df1['valueDelta'].mean(),df2['valueDelta'].mean())\n",
    "sum1 = sum2 = 0\n",
    "for i in range(0,len(df1)): \n",
    "    sum1 = sum1 + df1['issue_comment'][i]/df1['open_issue'][i]\n",
    "    sum2 = sum2 + df2['issue_comment'][i]/df2['open_issue'][i]\n",
    "res1 = sum1/len(df1)\n",
    "res2 = sum2/len(df2)\n",
    "print(res1,res2)\n",
    "\n"
   ]
  },
  {
   "cell_type": "markdown",
   "metadata": {},
   "source": [
    "根据分析，在开源的问题和拉取请求的数量上，国际前十企业的数量要远远高于国内，说明开源领域的规模相差很大。  \n",
    "而企业价值变化量国际前十略高，说明大型企业价值浮动也较大。  \n",
    "再分析项目问题相关的评论数量与项目问题数量的比值，国内企业的比值略高于国际，说明项目活跃度国内其实很高，成员的关注度和贡献度是不错的。"
   ]
  },
  {
   "cell_type": "markdown",
   "metadata": {},
   "source": [
    "4. 贝叶斯定理\n",
    "\n",
    "    贝叶斯定理参考：https://zh.wikipedia.org/wiki/%E8%B4%9D%E5%8F%B6%E6%96%AF%E5%AE%9A%E7%90%86\n",
    "\n",
    "    根据 OpenLeaderboard 上对前 10000 个活跃的项目统计，工具组件型项目占比 50 %，系统应用型占比 25 %，而内容资源型（非软件类）项目占比 25 %，成三分天下的态势。\n",
    "\n",
    "    非软件类项目中，带有 HTML/Markdown 标签的项目占 85 %，而软件类项目中带 HTML/Markdown标签的项目占比则为 10 %（注：HTML/Markdown 一般可用来书写文档内容）\n",
    "\n",
    "    工具组件型项目中，JavaScript 语言的项目占比 35 %，而非工具组件型项目中， JavaScript 语言的项目占比则为 10 %（注：JavaScript 是一种脚本编程语言，可以在网页上实现复杂的功能）\n",
    "\n",
    "    已知一个项目带有 HTML/Markdown 标签，那么该项目是非软件型项目的概率是多少？"
   ]
  },
  {
   "cell_type": "code",
   "execution_count": 18,
   "metadata": {},
   "outputs": [
    {
     "name": "stdout",
     "output_type": "stream",
     "text": [
      "0.7391304347826088\n"
     ]
    }
   ],
   "source": [
    "urhy = 0.85 \n",
    "urhn = 0.15\n",
    "rhy = 0.1\n",
    "rhn = 0.9\n",
    "r = 0.75\n",
    "ur = 0.25\n",
    "res = (ur * urhy)/(ur * urhy + r * rhy)\n",
    "print(res)"
   ]
  },
  {
   "cell_type": "markdown",
   "metadata": {},
   "source": [
    "5. 接上文，已知一个项目是由 JavaScript 语言编写的，那么它是工具组件型项目的概率是多少？"
   ]
  },
  {
   "cell_type": "code",
   "execution_count": 19,
   "metadata": {},
   "outputs": [
    {
     "name": "stdout",
     "output_type": "stream",
     "text": [
      "0.7777777777777778\n"
     ]
    }
   ],
   "source": [
    "g = 0.5\n",
    "ug = 0.5\n",
    "gjy = 0.35\n",
    "ugjy = 0.1\n",
    "res = (g * gjy)/(g * gjy + ug * ugjy)\n",
    "print(res)"
   ]
  },
  {
   "cell_type": "markdown",
   "metadata": {},
   "source": [
    "6. 根据以下数据建立可视化无向图\n",
    "\n",
    "    user = [1, 2, 3, 4] \n",
    "\n",
    "    edge = [(1, 2), (2, 3), (3, 4), (4, 1)]"
   ]
  },
  {
   "cell_type": "code",
   "execution_count": null,
   "metadata": {},
   "outputs": [
    {
     "data": {
      "image/png": "[encoded data removed]",
      "text/plain": [
       "<Figure size 300x300 with 1 Axes>"
      ]
     },
     "metadata": {},
     "output_type": "display_data"
    }
   ],
   "source": [
    "import networkx as nx  \n",
    "import matplotlib.pyplot as plt  \n",
    "user = [1, 2, 3, 4]  \n",
    "edge = [(1, 2), (2, 3), (3, 4), (4, 1)]  \n",
    "G = nx.Graph()  \n",
    "# 添加节点  \n",
    "for u in user:  \n",
    "    G.add_node(u)  \n",
    "# 添加边  \n",
    "for e in edge:  \n",
    "    G.add_edge(e[0], e[1])  \n",
    "plt.figure(figsize=(3, 3))\n",
    "# 绘制图形  \n",
    "pos = nx.spring_layout(G)  \n",
    "nx.draw(G, pos, with_labels=True, node_color='lightblue', node_size=500, font_size=16, edge_color='gray')  \n",
    "plt.show()"
   ]
  },
  {
   "cell_type": "markdown",
   "metadata": {},
   "source": [
    "7. 根据以下数据建立可视化**有向图**\n",
    "\n",
    "    users = [0, 1, 2, 3, 4, 5, 6, 7, 8, 9]\n",
    "    \n",
    "    edges = [(0, 1), (1, 0), (0, 2), (2, 0), (1, 2),\n",
    "                (2, 1), (1, 3), (2, 3), (3, 4), (5, 4),\n",
    "                (5, 6), (7, 5), (6, 8), (8, 7), (8, 9)]"
   ]
  },
  {
   "cell_type": "markdown",
   "metadata": {},
   "source": [
    "8. 针对第七题构建的有向图，计算并输出每个节点的pagerank值。同时根据pagerank调整可视化图的大小，使得PageRank越大的节点在可视化结果中也越大。\n",
    "    pageRank算法原理：https://zh.wikipedia.org/wiki/PageRank"
   ]
  },
  {
   "cell_type": "code",
   "execution_count": 16,
   "metadata": {},
   "outputs": [
    {
     "data": {
      "image/png": "[encoded data removed]",
      "text/plain": [
       "<Figure size 600x500 with 1 Axes>"
      ]
     },
     "metadata": {},
     "output_type": "display_data"
    }
   ],
   "source": [
    "import networkx as nx  \n",
    "import matplotlib.pyplot as plt  \n",
    "  \n",
    "users = [0, 1, 2, 3, 4, 5, 6, 7, 8, 9]  \n",
    "edges = [(0, 1), (1, 0), (0, 2), (2, 0), (1, 2),  \n",
    "         (2, 1), (1, 3), (2, 3), (3, 4), (5, 4),  \n",
    "         (5, 6), (7, 5), (6, 8), (8, 7), (8, 9)]  \n",
    "G = nx.DiGraph()  \n",
    "for user in users:  \n",
    "    G.add_node(user)  \n",
    "for edge in edges:  \n",
    "    G.add_edge(edge[0], edge[1])  \n",
    "\n",
    "pageranks = nx.pagerank(G)\n",
    "node_sizes = [pageranks[node] * 5000 for node in G.nodes()]\n",
    "\n",
    "plt.figure(figsize=(6,5))  \n",
    "pos = nx.spring_layout(G)    \n",
    "nx.draw(G, pos, with_labels=True, node_color='skyblue', node_size=node_sizes, font_size=10, arrowsize=10)  \n",
    "plt.show()"
   ]
  }
 ],
 "metadata": {
  "kernelspec": {
   "display_name": "Python 3",
   "language": "python",
   "name": "python3"
  },
  "language_info": {
   "codemirror_mode": {
    "name": "ipython",
    "version": 3
   },
   "file_extension": ".py",
   "mimetype": "text/x-python",
   "name": "python",
   "nbconvert_exporter": "python",
   "pygments_lexer": "ipython3",
   "version": "3.12.2"
  }
 },
 "nbformat": 4,
 "nbformat_minor": 2
}
