{
 "cells": [
  {
   "cell_type": "markdown",
   "metadata": {},
   "source": [
    "在实验练习08中我们使用的数据为两个城市在不同因素影响下某小时共享单车租用的数量。现在我们利用该数据集构建一个回归预测模型，根据数据中的某些属性预测该时段内的单车租用数量，该表所有值均为整型数据，表结构为：\n",
    "\n",
    "id 记录编号，无其他意义\n",
    "\n",
    "city 城市代号，0为北京，1为上海\n",
    "\n",
    "hour 小时，代表时间\n",
    "\n",
    "is_workday 是否为工作日，0为否，1为是\n",
    "\n",
    "temp_air 大气温度，单位为摄氏度\n",
    "\n",
    "temp_body 体感温度，单位为摄氏度\n",
    "\n",
    "weather 天气代号，1为晴天，2为多云或阴天，3为雨天或雪天\n",
    "\n",
    "wind 风级，数值越大代表风速越大\n",
    "\n",
    "y 该小时内共享单车被租用的数量\n",
    "\n",
    "请完成以下任务"
   ]
  },
  {
   "cell_type": "markdown",
   "metadata": {},
   "source": [
    "1. 数据集已上传至data文件夹中，具体文件为bike.csv。请使用pandas库读取该文件。\n",
    "\n",
    "2. id属性对构建回归预测模型没有帮助，请剔除掉该列。\n",
    "\n",
    "3. 我们暂不考虑不同城市对单车租用的影响，请筛选出上海市的所有数据，然后剔除city列。\n",
    "\n",
    "4. 为简化数据，请将hour列中原来6点-18点统一为1；19点-次日5点统一为0。\n",
    "\n",
    "5. y列为单车租用数量，是我们的预测目标（标签），请将该列提取出来，并转换为一个numpy列向量，将原先的y列剔除。\n",
    "\n",
    "6. 请将DataFrame对象转换为Numpy数组，方便后续操作。\n",
    "\n",
    "7. 请按照训练集与测试集8:2的比例将原始数据集划分。\n",
    "\n",
    "8. 请分别对训练集数据、训练集标签、测试集数据和测试集标签进行归一化。\n",
    "\n",
    "9. 请先构建一个线性回归模型（多元一次函数），然后利用训练集训练模型。\n",
    "\n",
    "10. 利用测试集对训练好的模型进行评估。提示：使用predict(data_array)方法输入测试集，该函数返回值为模型预测值。\n",
    "\n",
    "11. 模型评估：请使用均方根误差（RMSE）作为评估指标，并输出RMSE值。"
   ]
  },
  {
   "cell_type": "code",
   "execution_count": null,
   "metadata": {},
   "outputs": [
    {
     "name": "stdout",
     "output_type": "stream",
     "text": [
      "均方根误差 (RMSE): 0.7660362571163704\n"
     ]
    }
   ],
   "source": [
    "import pandas as pd\n",
    "import numpy as np\n",
    "#读取\n",
    "df = pd.read_csv('bike.csv')\n",
    "#剔除id列\n",
    "df.drop(['id'],axis=1,inplace=True)\n",
    "#筛选\n",
    "df_sh = df[df['city']== 1 ]\n",
    "df.drop(['city'],axis=1,inplace=True)\n",
    "#简化\n",
    "df['hour'] = df['hour'].apply(lambda x: 1 if x>=6 and x<=18 else 0)\n",
    "#提取预测标签\n",
    "y = df['y'].values.reshape(-1,1)\n",
    "df.drop(['y'],axis=1,inplace=True)\n",
    "#转换数组\n",
    "X = df.values\n",
    "#划分数据\n",
    "from sklearn.model_selection import train_test_split\n",
    "from sklearn.preprocessing import StandardScaler\n",
    "from sklearn.linear_model import LinearRegression\n",
    "from sklearn.metrics import mean_squared_error\n",
    "X_train, X_test, y_train, y_test = train_test_split(X, y, test_size=0.2, random_state=30)\n",
    "#归一化\n",
    "scaler = StandardScaler()\n",
    "X_train = scaler.fit_transform(X_train)\n",
    "X_test = scaler.transform(X_test)\n",
    "y_train = scaler.fit_transform(y_train)\n",
    "y_test = scaler.transform(y_test)\n",
    "# 构建模型并训练\n",
    "model = LinearRegression()\n",
    "model.fit(X_train, y_train)\n",
    "# 利用测试集进行评估\n",
    "y_pred = model.predict(X_test)\n",
    "# 使用均方根误差（RMSE）作为评估指标\n",
    "rmse = np.sqrt(mean_squared_error(y_test, y_pred))\n",
    "print(f'均方根误差 (RMSE): {rmse}')"
   ]
  }
 ],
 "metadata": {
  "kernelspec": {
   "display_name": "Python 3",
   "language": "python",
   "name": "python3"
  },
  "language_info": {
   "codemirror_mode": {
    "name": "ipython",
    "version": 3
   },
   "file_extension": ".py",
   "mimetype": "text/x-python",
   "name": "python",
   "nbconvert_exporter": "python",
   "pygments_lexer": "ipython3",
   "version": "3.12.2"
  }
 },
 "nbformat": 4,
 "nbformat_minor": 2
}
